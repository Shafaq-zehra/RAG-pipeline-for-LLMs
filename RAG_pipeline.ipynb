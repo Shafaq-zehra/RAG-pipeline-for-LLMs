{
 "cells": [
  {
   "cell_type": "code",
   "execution_count": 1,
   "id": "8b51a68e",
   "metadata": {},
   "outputs": [
    {
     "name": "stderr",
     "output_type": "stream",
     "text": [
      "/usr/lib/python3/dist-packages/requests/__init__.py:87: RequestsDependencyWarning: urllib3 (2.5.0) or chardet (4.0.0) doesn't match a supported version!\n",
      "  warnings.warn(\"urllib3 ({}) or chardet ({}) doesn't match a supported \"\n",
      "/home/shafaq/.local/lib/python3.10/site-packages/tqdm/auto.py:21: TqdmWarning: IProgress not found. Please update jupyter and ipywidgets. See https://ipywidgets.readthedocs.io/en/stable/user_install.html\n",
      "  from .autonotebook import tqdm as notebook_tqdm\n"
     ]
    }
   ],
   "source": [
    "import wikipedia\n",
    "from transformers import AutoTokenizer, AutoModelForQuestionAnswering, pipeline\n",
    "from sentence_transformers import SentenceTransformer\n",
    "import faiss\n",
    "import numpy as np\n"
   ]
  },
  {
   "cell_type": "markdown",
   "id": "1add794f",
   "metadata": {},
   "source": [
    "To simulate an external knowledge base, we’ll fetch relevant Wikipedia articles based on a given topic:"
   ]
  },
  {
   "cell_type": "code",
   "execution_count": 2,
   "id": "e30eb1ed",
   "metadata": {},
   "outputs": [],
   "source": [
    "def get_wikipedia_content(topic):\n",
    "    try:\n",
    "        page = wikipedia.page(topic)\n",
    "        return page.content\n",
    "    except wikipedia.exceptions.PageError:\n",
    "        return None\n",
    "    except wikipedia.exceptions.DisambiguationError as e:\n",
    "        # handle cases where the topic is ambiguous\n",
    "        print(f\"Ambiguous topic. Please be more specific. Options: {e.options}\")\n",
    "        return None\n",
    "\n",
    "# user input\n",
    "topic = input(\"Enter a topic to learn about: \")\n",
    "document = get_wikipedia_content(topic)\n",
    "\n",
    "if not document:\n",
    "    print(\"Could not retrieve information.\")\n",
    "    exit()\n",
    "\n",
    "    "
   ]
  },
  {
   "cell_type": "code",
   "execution_count": null,
   "id": "6198cd03",
   "metadata": {},
   "outputs": [],
   "source": []
  },
  {
   "cell_type": "markdown",
   "id": "71ca415d",
   "metadata": {},
   "source": [
    "Since Wikipedia articles can be long, we will split the text into smaller overlapping chunks for better retrieval:"
   ]
  },
  {
   "cell_type": "code",
   "execution_count": 3,
   "id": "8af97f45",
   "metadata": {},
   "outputs": [
    {
     "name": "stderr",
     "output_type": "stream",
     "text": [
      "/home/shafaq/.local/lib/python3.10/site-packages/transformers/tokenization_utils_base.py:1617: FutureWarning: `clean_up_tokenization_spaces` was not set. It will be set to `True` by default. This behavior will be deprecated in transformers v4.45, and will be then set to `False` by default. For more details check this issue: https://github.com/huggingface/transformers/issues/31884\n",
      "  warnings.warn(\n",
      "Token indices sequence length is longer than the specified maximum sequence length for this model (3322 > 512). Running this sequence through the model will result in indexing errors\n"
     ]
    },
    {
     "name": "stdout",
     "output_type": "stream",
     "text": [
      "Number of chunks: 14\n"
     ]
    }
   ],
   "source": [
    "tokenizer = AutoTokenizer.from_pretrained(\"sentence-transformers/all-mpnet-base-v2\")\n",
    "\n",
    "def split_text(text, chunk_size=256, chunk_overlap=20):\n",
    "    tokens = tokenizer.tokenize(text)\n",
    "    chunks = []\n",
    "    start = 0\n",
    "    while start < len(tokens):\n",
    "        end = min(start + chunk_size, len(tokens))\n",
    "        chunks.append(tokenizer.convert_tokens_to_string(tokens[start:end]))\n",
    "        if end == len(tokens):\n",
    "            break\n",
    "        start = end - chunk_overlap\n",
    "    return chunks\n",
    "\n",
    "chunks = split_text(document)\n",
    "print(f\"Number of chunks: {len(chunks)}\")\n"
   ]
  },
  {
   "cell_type": "markdown",
   "id": "db84edf7",
   "metadata": {},
   "source": [
    "To efficiently search for relevant chunks, we will use Sentence Transformers to convert text into embeddings and store them in a FAISS index:"
   ]
  },
  {
   "cell_type": "code",
   "execution_count": 4,
   "id": "08237f00",
   "metadata": {},
   "outputs": [],
   "source": [
    "embedding_model = SentenceTransformer(\"sentence-transformers/all-mpnet-base-v2\")\n",
    "embeddings = embedding_model.encode(chunks)\n",
    "\n",
    "dimension = embeddings.shape[1]\n",
    "index = faiss.IndexFlatL2(dimension)\n",
    "index.add(np.array(embeddings))"
   ]
  },
  {
   "cell_type": "markdown",
   "id": "7306ea31",
   "metadata": {},
   "source": [
    "Now, we will take user input for the RAG pipeline. When a user asks a question, we will:\n",
    "\n",
    "    Convert the query into an embedding.\n",
    "    Retrieve the top-k most relevant chunks using FAISS.\n",
    "    Use an LLM-powered question-answering model to generate the answer.\n"
   ]
  },
  {
   "cell_type": "code",
   "execution_count": 7,
   "id": "1546d81e",
   "metadata": {},
   "outputs": [
    {
     "name": "stdout",
     "output_type": "stream",
     "text": [
      "Retrieved chunks:\n",
      "- , jewellery and dinner sets. khan claimed his arrest was due to a \" london plan \" to keep him out of politics, a term used by him to refer to an alleged plot between army chief asim munir and nawaz sharif. al jazeera reported khan \" has yet to provide evidence of its existence. \" the 5 august arrest and conviction was criticized by interviewed lawyers for being hasty, the verdict being announced in the absence of the imran khan, and for being politically motivated. = = = reactions = = = on 6 august, a day after khan had been arrested, dawn reported that despite heavy police deployment, only a few street protests were reported in khyber pakhtunkhwa, and that pti activists in kpk had \" largely remained ' silent ' over the arrest of their leader \". the bbc said that \" there was barely a whimper of protest. \" and that no major protests had been reported in the country. analyst ali akbar attributed this to the defection and lack of pti leaders following the may 9 riots and fear of arrest. 24 digital said \" there was no sign of any mass uprising sunday, \" despite calls of protest from khan. 67 pti activists were arrested across several provinces in the country by police. = = =\n",
      "- to decide and pti denied any association with the recent acts of violence that occurred during the protests. the united states and united kingdom called for democracy and the rule of law to be respected. = = = aftermath = = = on 9 may, the kse 100 index saw a decrease of 455. 68 points or 1. 09 % and settled at 41, 373. 81 level. on 10 may, the pakistani rupee fell 1. 3 % to a record low of 288. 5 against the u. s. dollar. as of 11 may, a minimum of 8 individuals lost their lives, while over 290 sustained injuries, and more than 1, 900 party supporters were detained. in an effort to address the escalating situation, the army was deployed in punjab, khyber pakhtunkhwa and islamabad the same day. between 10 – 12 may, police detained key leading members of khan ' s political party. these included former federal ministers asad umar, fawad chaudhry, shah mehmood qureshi, ali muhammad khan, and shireen mazari. according to the police, 9, 000 pti supporters and members were apprehended. according to theprint, several high - ranking army commanders, notably including chairman joint\n",
      "- khan. 67 pti activists were arrested across several provinces in the country by police. = = = post - arrest legal developments = = = on august 29, his conviction was overturned and was granted bail, however khan remained jailed, as the same day an islamabad court ordered his detention in the cypher case, where he was accused of breaking the official secrets act. following his arrest, khan was convicted in january 2024 for leaking state secrets ( 10 years in prison ) and the toshakhana case ( 14 years in prison ), the iddat marriage case ( 7 years in prison ) in march 2024, and al - qadir trust case ( 14 years in prison ) in january 2025. he has since been acquitted both from leaking state secrets and the iddat case, and received bail in the toshakhana case after paying a rs 1 million bail bond and two sureties. another toshakhana case was filed. = = see also = = imran khan may 9 riots 2023 pakistani protests al - qadir trust case toshakhana reference cases arrest of sheikh mujibur rahman = = references = = = = external links = = \" imran khan ' s arrest - live \". dawn.\n"
     ]
    }
   ],
   "source": [
    "query = input(\"Ask a question about the topic: \")\n",
    "query_embedding = embedding_model.encode([query])\n",
    "\n",
    "k = 3\n",
    "distances, indices = index.search(np.array(query_embedding), k)\n",
    "retrieved_chunks = [chunks[i] for i in indices[0]]\n",
    "print(\"Retrieved chunks:\")\n",
    "for chunk in retrieved_chunks:\n",
    "    print(\"- \" + chunk)"
   ]
  },
  {
   "cell_type": "markdown",
   "id": "fa821c6b",
   "metadata": {},
   "source": [
    "Now, we will use a pre-trained question-answering model to extract the final answer from the retrieved context:"
   ]
  },
  {
   "cell_type": "code",
   "execution_count": 8,
   "id": "c67c621e",
   "metadata": {},
   "outputs": [
    {
     "name": "stdout",
     "output_type": "stream",
     "text": [
      "Answer: jewellery and dinner sets\n"
     ]
    }
   ],
   "source": [
    "qa_model_name = \"deepset/roberta-base-squad2\"\n",
    "qa_tokenizer = AutoTokenizer.from_pretrained(qa_model_name)\n",
    "qa_model = AutoModelForQuestionAnswering.from_pretrained(qa_model_name)\n",
    "qa_pipeline = pipeline(\"question-answering\", model=qa_model, tokenizer=qa_tokenizer)\n",
    "\n",
    "context = \" \".join(retrieved_chunks)\n",
    "answer = qa_pipeline(question=query, context=context)\n",
    "print(f\"Answer: {answer['answer']}\")"
   ]
  }
 ],
 "metadata": {
  "kernelspec": {
   "display_name": "Python 3",
   "language": "python",
   "name": "python3"
  },
  "language_info": {
   "codemirror_mode": {
    "name": "ipython",
    "version": 3
   },
   "file_extension": ".py",
   "mimetype": "text/x-python",
   "name": "python",
   "nbconvert_exporter": "python",
   "pygments_lexer": "ipython3",
   "version": "3.10.12"
  }
 },
 "nbformat": 4,
 "nbformat_minor": 5
}
